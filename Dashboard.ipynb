{
 "cells": [
  {
   "cell_type": "markdown",
   "id": "93b2b29b-7499-4d79-8dbe-0ba19a5204ae",
   "metadata": {},
   "source": [
    "# My Zeebe Dashboard"
   ]
  },
  {
   "cell_type": "code",
   "execution_count": null,
   "id": "a21e68b9-d264-42aa-9748-8befa2232125",
   "metadata": {
    "tags": []
   },
   "outputs": [],
   "source": [
    "from IPython.display import display\n",
    "from ipywidgets import widgets"
   ]
  },
  {
   "cell_type": "markdown",
   "id": "3a04b36d-4785-489b-a07a-47cecfb21f3b",
   "metadata": {},
   "source": [
    "## Process list"
   ]
  },
  {
   "cell_type": "code",
   "execution_count": null,
   "id": "320f1ee3-a708-4888-bf7c-1ffe68dbd475",
   "metadata": {
    "tags": []
   },
   "outputs": [],
   "source": [
    "create_display= widgets.Output()\n",
    "display(create_display)"
   ]
  },
  {
   "cell_type": "code",
   "execution_count": null,
   "id": "fcaab32f-ad4e-4453-b469-769aec55fb02",
   "metadata": {
    "tags": []
   },
   "outputs": [],
   "source": [
    "instances_display = widgets.Output()\n",
    "display(instances_display)"
   ]
  },
  {
   "cell_type": "code",
   "execution_count": null,
   "id": "11266884-81aa-4904-b822-ca594e4024c7",
   "metadata": {
    "tags": []
   },
   "outputs": [],
   "source": [
    "instance_display = widgets.Output()\n",
    "display(instance_display)"
   ]
  },
  {
   "cell_type": "markdown",
   "id": "f774505c-75b6-4ac9-9f99-1e5a6e80b484",
   "metadata": {},
   "source": [
    "## Task list"
   ]
  },
  {
   "cell_type": "code",
   "execution_count": null,
   "id": "2e5fff71-cae6-4839-bf06-890971921348",
   "metadata": {
    "tags": []
   },
   "outputs": [],
   "source": [
    "tasks_display= widgets.Output()\n",
    "display(tasks_display)"
   ]
  },
  {
   "cell_type": "code",
   "execution_count": null,
   "id": "0bb29df1-9950-46f7-8cf9-bd32938cbf51",
   "metadata": {
    "tags": []
   },
   "outputs": [],
   "source": [
    "task_display = widgets.Output()\n",
    "display(task_display)"
   ]
  },
  {
   "cell_type": "markdown",
   "id": "6e761c80-3f9b-4878-8269-8ae87a5ac10d",
   "metadata": {},
   "source": [
    "## Decision list"
   ]
  },
  {
   "cell_type": "code",
   "execution_count": null,
   "id": "2274c88b-fc04-4a0b-b550-11eb9aa2d7a8",
   "metadata": {
    "tags": []
   },
   "outputs": [],
   "source": [
    "decisions_display = widgets.Output()\n",
    "display(decisions_display)"
   ]
  },
  {
   "cell_type": "code",
   "execution_count": null,
   "id": "dca38255-1221-4acf-a5ae-0428de4f951f",
   "metadata": {
    "tags": []
   },
   "outputs": [],
   "source": [
    "decision_display = widgets.Output()\n",
    "display(decision_display)"
   ]
  },
  {
   "cell_type": "code",
   "execution_count": null,
   "id": "ea626263-7420-417d-b3bf-8912c0786265",
   "metadata": {
    "tags": []
   },
   "outputs": [],
   "source": [
    "from IPython.display import clear_output, JSON\n",
    "from jupyterlab_form_js import FormJSWidget as Form\n",
    "from ipydatagrid import DataGrid\n",
    "from requests import post\n",
    "from datetime import datetime\n",
    "import base64\n",
    "import ipyvuetify as v\n",
    "import json\n",
    "import pandas as pd\n",
    "import requests\n",
    "import time"
   ]
  },
  {
   "cell_type": "code",
   "execution_count": null,
   "id": "19ebd593-4442-4332-b196-493213364bbd",
   "metadata": {
    "tags": []
   },
   "outputs": [],
   "source": [
    "config = { \"style\": { \"height\": \"400px\" }, \"zoom\": 1.1 }\n",
    "BPMN = lambda bpmn, update={}: {\n",
    "    \"application/bpmn+xml\": bpmn,\n",
    "    \"application/bpmn+json\": json.dumps(config | update)\n",
    "}\n",
    "DMN = lambda dmn, update={}: {\n",
    "    \"application/dmn+xml\": dmn,\n",
    "    \"application/dmn+json\": json.dumps(config | update)\n",
    "}\n",
    "var = {}"
   ]
  },
  {
   "cell_type": "code",
   "execution_count": null,
   "id": "d38340f0-dc1b-4cb2-b7c5-33769d8d4e58",
   "metadata": {
    "tags": []
   },
   "outputs": [],
   "source": [
    "def query(query, operation_name=None, variables=None):\n",
    "    headers = {\n",
    "        \"Content-Type\": \"application/json\"\n",
    "    }\n",
    "    data = {\n",
    "        \"query\": query, \n",
    "        \"operation_name\": operation_name,\n",
    "        \"variables\": variables or {},\n",
    "    }\n",
    "    response = requests.post(\n",
    "        \"http://localhost:8001/graphql\",\n",
    "        headers=headers,\n",
    "        json=data\n",
    "    )\n",
    "    return response.json()[\"data\"]"
   ]
  },
  {
   "cell_type": "code",
   "execution_count": null,
   "id": "52876332-2d54-41a4-bf35-ac4821662ef9",
   "metadata": {
    "tags": []
   },
   "outputs": [],
   "source": [
    "QUERY_DEFINITIONS = \"\"\"\\\n",
    "{\n",
    "  process(sort: bpmnProcessName) {\n",
    "    nodes {\n",
    "      bpmnProcessId\n",
    "      bpmnProcessName\n",
    "    }\n",
    "  }\n",
    "}\n",
    "\"\"\""
   ]
  },
  {
   "cell_type": "code",
   "execution_count": null,
   "id": "80f51c35-ebd2-42d2-9661-14e8c001c0a4",
   "metadata": {
    "tags": []
   },
   "outputs": [],
   "source": [
    "var[\"select\"] = v.Select(\n",
    "    v_model=None,\n",
    "    label='Create new',\n",
    "    items=[],\n",
    ")\n",
    "def render_create():\n",
    "    select = var[\"select\"]\n",
    "    select.items = list(set([\n",
    "        d[\"bpmnProcessId\"] for d\n",
    "        in query(QUERY_DEFINITIONS)[\"process\"][\"nodes\"]\n",
    "    ]))\n",
    "    btn = v.Btn(color='primary', children=['Create instance'])\n",
    "    def create_instance(*args):\n",
    "        results = !zbctl --insecure create instance {var[\"select\"].v_model}\n",
    "        try:\n",
    "            key = json.loads(\"\".join(results))[\"processInstanceKey\"]\n",
    "        except:\n",
    "            with create_display:\n",
    "                clear_output()\n",
    "                display(select)\n",
    "                display(results)\n",
    "        for i in range(100):\n",
    "            time.sleep(0.1)  # wait for zeebe data export\n",
    "            data = query(QUERY_INSTANCE, \"process_instance\", {\"id\": key})\n",
    "            if data[\"process_instance_row\"]:\n",
    "                break\n",
    "        render_instances()\n",
    "    btn.on_event('click', create_instance)\n",
    "    with create_display:\n",
    "        clear_output()\n",
    "        display(select)\n",
    "        display(btn)\n",
    "render_create()"
   ]
  },
  {
   "cell_type": "code",
   "execution_count": null,
   "id": "9cadd5d8-5d36-4906-83f6-f36141d7d08f",
   "metadata": {
    "tags": []
   },
   "outputs": [],
   "source": [
    "QUERY_INSTANCES = \"\"\"\\\n",
    "{\n",
    "  process_instance(first: 100) {\n",
    "    nodes {\n",
    "      key\n",
    "      processDefinition {\n",
    "        bpmnProcessName\n",
    "      }\n",
    "      created\n",
    "      tasks: element_instance_list(\n",
    "        filter: {bpmnElementType: {eq: \"USER_TASK\"}, completed: {isnull: true}}\n",
    "      ) {\n",
    "        totalCount\n",
    "      }\n",
    "      incidents: incident_list(filter: {completed: {isnull: true}}) {\n",
    "        totalCount\n",
    "      }\n",
    "    }\n",
    "  }\n",
    "}\n",
    "\"\"\""
   ]
  },
  {
   "cell_type": "code",
   "execution_count": null,
   "id": "431a6dcc-c836-415a-abae-904ee2f19500",
   "metadata": {
    "tags": []
   },
   "outputs": [],
   "source": [
    "QUERY_ACTIVE_INSTANCES = \"\"\"\\\n",
    "{\n",
    "  process_instance(filter: {completed: {isnull: true}}, first: 100) {\n",
    "    nodes {\n",
    "      key\n",
    "      processDefinition {\n",
    "        bpmnProcessName\n",
    "      }\n",
    "      created\n",
    "      tasks: element_instance_list(\n",
    "        filter: {bpmnElementType: {eq: \"USER_TASK\"}, completed: {isnull: true}}\n",
    "      ) {\n",
    "        totalCount\n",
    "      }\n",
    "      incidents: incident_list(filter: {completed: {isnull: true}}) {\n",
    "        totalCount\n",
    "      }\n",
    "    }\n",
    "  }\n",
    "}\n",
    "\"\"\""
   ]
  },
  {
   "cell_type": "code",
   "execution_count": null,
   "id": "0ce67479-9b1e-419d-b3fa-f31d0cef5c6e",
   "metadata": {
    "tags": []
   },
   "outputs": [],
   "source": [
    "QUERY_COMPLETED_INSTANCES = \"\"\"\\\n",
    "{\n",
    "  process_instance(filter: {completed: {notnull: true}}, first: 100) {\n",
    "    nodes {\n",
    "      key\n",
    "      processDefinition {\n",
    "        bpmnProcessName\n",
    "      }\n",
    "      created\n",
    "      tasks: element_instance_list(\n",
    "        filter: {bpmnElementType: {eq: \"USER_TASK\"}, completed: {isnull: true}}\n",
    "      ) {\n",
    "        totalCount\n",
    "      }\n",
    "      incidents: incident_list(filter: {completed: {isnull: true}}) {\n",
    "        totalCount\n",
    "      }\n",
    "    }\n",
    "  }\n",
    "}\n",
    "\"\"\""
   ]
  },
  {
   "cell_type": "code",
   "execution_count": null,
   "id": "4be1bf78-41c3-42a8-9515-12c11c9ce03f",
   "metadata": {
    "tags": []
   },
   "outputs": [],
   "source": [
    "QUERY_INSTANCE = \"\"\"\\\n",
    "query process_instance_($id: String!) {\n",
    "  process_instance_row(key: $id) {\n",
    "    processDefinition {\n",
    "      resource\n",
    "    }\n",
    "    incidents: incident_list {\n",
    "      nodes {\n",
    "        activityId: elementId\n",
    "        startTime: created\n",
    "        endTime: completed\n",
    "      }\n",
    "    }\n",
    "    activities: element_instance_list {\n",
    "      nodes {\n",
    "        activityId: elementId\n",
    "        startTime: created\n",
    "        endTime: completed\n",
    "      }\n",
    "    }\n",
    "  }\n",
    "}\n",
    "\"\"\""
   ]
  },
  {
   "cell_type": "code",
   "execution_count": null,
   "id": "8ec2550f-1141-49db-b9a3-d656bf53ee98",
   "metadata": {
    "tags": []
   },
   "outputs": [],
   "source": [
    "toggle_mode = v.BtnToggle(v_model=0, class_='mr-3', children=[\n",
    "    v.Btn(text=True, children=[\"All\"]),\n",
    "    v.Btn(text=True, children=[\"Running\"]),\n",
    "    v.Btn(text=True, children=[\"Completed\"]),\n",
    "])\n",
    "def render_instances():\n",
    "    def on_change(*args):\n",
    "        render_instances()\n",
    "    toggle_mode.on_event('change', on_change)\n",
    "    data = [\n",
    "        {\n",
    "            \"key\": item[\"key\"],\n",
    "            \"name\": item[\"processDefinition\"][\"bpmnProcessName\"],\n",
    "            \"created\": datetime.fromtimestamp(int(item[\"created\"]) / 1000.),\n",
    "            \"tasks\": item[\"tasks\"][\"totalCount\"],\n",
    "            \"incidents\": item[\"incidents\"][\"totalCount\"],\n",
    "        }\n",
    "        for item in query(toggle_mode.v_model == 0 and QUERY_INSTANCES or toggle_mode.v_model == 1 and QUERY_ACTIVE_INSTANCES or QUERY_COMPLETED_INSTANCES)[\"process_instance\"][\"nodes\"]\n",
    "    ]\n",
    "    df = pd.DataFrame(data)\n",
    "    dg = DataGrid(\n",
    "        df[[\"name\", \"created\", \"tasks\", \"incidents\"]],\n",
    "        selection_mode=\"cell\",\n",
    "        column_widths={\n",
    "            \"name\": 300,\n",
    "            \"created\": 150,\n",
    "            \"tasks\": 100,\n",
    "            \"incidents\": 100,\n",
    "        },\n",
    "        layout={\"height\": f\"{len(df) * 24 + 24}px\"}\n",
    "    )\n",
    "    def on_select(selection):\n",
    "        key = df.loc[selection[\"row\"]][\"key\"]\n",
    "        data = query(QUERY_INSTANCE, \"process_instance\", {\"id\": key})[\"process_instance_row\"]\n",
    "        bpmn = base64.b64decode(data[\"processDefinition\"][\"resource\"]).decode(\"utf-8\")\n",
    "        with instance_display:\n",
    "            clear_output()\n",
    "            display(BPMN(bpmn, dict(activities=data[\"activities\"][\"nodes\"], incidents=data[\"incidents\"][\"nodes\"])), raw=True)\n",
    "    dg.on_cell_click(on_select)\n",
    "    refresh = v.Container(children=[v.Btn(color='primary', children=['Update'])])\n",
    "    refresh.children[0].on_event('click', lambda *args: render_instances())\n",
    "    with instances_display:\n",
    "        clear_output()\n",
    "        display(toggle_mode)\n",
    "        display(widgets.HBox([dg, refresh]))\n",
    "render_instances()"
   ]
  },
  {
   "cell_type": "code",
   "execution_count": null,
   "id": "c41d1a0c-59fd-4e5d-b789-242456e53300",
   "metadata": {
    "tags": []
   },
   "outputs": [],
   "source": [
    "QUERY_JOBS = \"\"\"\\\n",
    "{\n",
    "  job(first: 1000) {\n",
    "    nodes {\n",
    "      key\n",
    "      processInstance {\n",
    "        processDefinition { bpmnProcessName}\n",
    "      }\n",
    "      type\n",
    "      elementInstance { elementName}\n",
    "      state\n",
    "    }\n",
    "  }\n",
    "}\n",
    "\"\"\""
   ]
  },
  {
   "cell_type": "code",
   "execution_count": null,
   "id": "6e33f2ab-301f-4ab6-b7ce-5086897a7b58",
   "metadata": {
    "tags": []
   },
   "outputs": [],
   "source": [
    "QUERY_JOB = \"\"\"\\\n",
    "query job($id: String!) {\n",
    "  job_row(key: $id) {\n",
    "    key\n",
    "    type\n",
    "    elementInstance {\n",
    "      elementName\n",
    "    }\n",
    "    variables\n",
    "    form {\n",
    "      schema\n",
    "    }\n",
    "  }\n",
    "}\n",
    "\"\"\""
   ]
  },
  {
   "cell_type": "code",
   "execution_count": null,
   "id": "a6f51f02-e0ab-46f8-aa62-ccd7119c6270",
   "metadata": {
    "tags": []
   },
   "outputs": [],
   "source": [
    "def render_tasks():\n",
    "    data = [\n",
    "        {\n",
    "            \"key\": item[\"key\"],\n",
    "            \"process\": item[\"processInstance\"][\"processDefinition\"][\"bpmnProcessName\"],\n",
    "            \"type\": item[\"type\"],\n",
    "            \"name\": item[\"elementInstance\"][\"elementName\"],\n",
    "            \"state\": item[\"state\"]\n",
    "        }\n",
    "        for item in query(QUERY_JOBS)[\"job\"][\"nodes\"]\n",
    "    ]\n",
    "    df = pd.DataFrame(data)\n",
    "    dg = DataGrid(\n",
    "        df[[\"name\", \"type\", \"state\", \"process\"]],\n",
    "        selection_mode=\"cell\",\n",
    "        column_widths={\n",
    "            \"name\": 100,\n",
    "            \"process\": 150,\n",
    "            \"type\": 200,\n",
    "            \"state\": 100,\n",
    "        },\n",
    "        layout={\"height\": f\"{len(df) * 24 + 24}px\"}\n",
    "    )\n",
    "    def on_select(selection):\n",
    "        key = df.loc[selection[\"row\"]][\"key\"]\n",
    "        data = query(QUERY_JOB, \"job\", {\"id\": key})[\"job_row\"]\n",
    "        form = Form(\n",
    "            schema=data[\"form\"][\"schema\"],\n",
    "            data=data[\"variables\"],\n",
    "        )\n",
    "        def handle_submit(f, data, errors):\n",
    "            if errors:\n",
    "                return\n",
    "            var[\"key\"] = key\n",
    "            var[\"variables\"] = json.dumps(json.dumps(data))\n",
    "            results = !zbctl --insecure complete job {var[\"key\"]} --variables {var[\"variables\"]}\n",
    "            time.sleep(1)\n",
    "            with task_display:\n",
    "                clear_output()\n",
    "        form.on_submit(handle_submit)\n",
    "        with task_display:\n",
    "            clear_output()\n",
    "            display(form)\n",
    "    dg.on_cell_click(on_select)\n",
    "    refresh = v.Container(children=[v.Btn(color='primary', children=['Update'])])\n",
    "    refresh.children[0].on_event('click', lambda *args: render_tasks())\n",
    "    with tasks_display:\n",
    "        clear_output()\n",
    "        display(widgets.HBox([dg, refresh]))\n",
    "render_tasks()"
   ]
  },
  {
   "cell_type": "code",
   "execution_count": null,
   "id": "b085b580-8b9c-4a3c-9215-380f38deec0a",
   "metadata": {
    "tags": []
   },
   "outputs": [],
   "source": [
    "QUERY_DECISIONS = \"\"\"\\\n",
    "{\n",
    "  decision_evaluation(first: 1000) {\n",
    "    nodes {\n",
    "      key\n",
    "      decision {\n",
    "        decisionName\n",
    "      }\n",
    "      created\n",
    "      decisionOutput\n",
    "      processDefinition {\n",
    "        bpmnProcessName\n",
    "      }\n",
    "    }\n",
    "  }\n",
    "}\n",
    "\"\"\""
   ]
  },
  {
   "cell_type": "code",
   "execution_count": null,
   "id": "72e257ac-484b-49cc-a6a1-08798062fccf",
   "metadata": {
    "tags": []
   },
   "outputs": [],
   "source": [
    "QUERY_DECISION = \"\"\"\\\n",
    "query decision_evaluation($id: String!) {\n",
    "  decision_evaluation_row(key: $id) {\n",
    "    key\n",
    "    decision {\n",
    "      decisionId\n",
    "      decisionRequirements {\n",
    "        resource\n",
    "      }\n",
    "    }\n",
    "    evaluatedDecisions\n",
    "  }\n",
    "}\n",
    "\"\"\""
   ]
  },
  {
   "cell_type": "code",
   "execution_count": null,
   "id": "437bf6b2-21e4-4afa-8b16-83953532abf4",
   "metadata": {
    "tags": []
   },
   "outputs": [],
   "source": [
    "def render_decisions():\n",
    "    data = [\n",
    "        {\n",
    "            \"key\": item[\"key\"],\n",
    "            \"name\": item[\"decision\"][\"decisionName\"],\n",
    "            \"created\": datetime.fromtimestamp(int(item[\"created\"]) / 1000.),\n",
    "            \"process\": item[\"processDefinition\"][\"bpmnProcessName\"],\n",
    "            \"output\": str(item[\"decisionOutput\"]),\n",
    "        }\n",
    "        for item in query(QUERY_DECISIONS)[\"decision_evaluation\"][\"nodes\"]\n",
    "    ]\n",
    "    df = pd.DataFrame(data)\n",
    "    dg = DataGrid(\n",
    "        df[[\"name\", \"created\", \"process\", \"output\"]],\n",
    "        selection_mode=\"cell\",\n",
    "        column_widths={\n",
    "            \"name\": 100,\n",
    "            \"created\": 100,\n",
    "            \"process\": 150,\n",
    "        },\n",
    "        layout={\"height\": f\"{len(df) * 24 + 24}px\"}\n",
    "    )\n",
    "    def on_select(selection):\n",
    "        key = df.loc[selection[\"row\"]][\"key\"]\n",
    "        data = query(QUERY_DECISION, \"decision_evaluation\", {\"id\": key})[\"decision_evaluation_row\"]\n",
    "        dmn = base64.b64decode(data[\"decision\"][\"decisionRequirements\"][\"resource\"]).decode(\"utf-8\")\n",
    "        with decision_display:\n",
    "            clear_output()\n",
    "            display(DMN(dmn, data[\"evaluatedDecisions\"][0]), raw=True)\n",
    "    dg.on_cell_click(on_select)\n",
    "    refresh = v.Container(children=[v.Btn(color='primary', children=['Update'])])\n",
    "    refresh.children[0].on_event('click', lambda *args: render_decisions())\n",
    "    with decisions_display:\n",
    "        clear_output()\n",
    "        display(widgets.HBox([dg, refresh]))\n",
    "render_decisions()"
   ]
  }
 ],
 "metadata": {
  "kernelspec": {
   "display_name": "Python 3 (ipykernel)",
   "language": "python",
   "name": "python3"
  },
  "language_info": {
   "codemirror_mode": {
    "name": "ipython",
    "version": 3
   },
   "file_extension": ".py",
   "mimetype": "text/x-python",
   "name": "python",
   "nbconvert_exporter": "python",
   "pygments_lexer": "ipython3",
   "version": "3.9.13"
  }
 },
 "nbformat": 4,
 "nbformat_minor": 5
}
